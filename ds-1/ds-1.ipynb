{
 "cells": [
  {
   "cell_type": "markdown",
   "metadata": {},
   "source": [
    "Imports first."
   ]
  },
  {
   "cell_type": "code",
   "execution_count": 1,
   "metadata": {},
   "outputs": [],
   "source": [
    "import pandas as pd\n",
    "from sklearn import datasets, linear_model\n",
    "from sklearn.model_selection import train_test_split\n",
    "from sklearn.metrics import mean_squared_error, r2_score"
   ]
  },
  {
   "cell_type": "markdown",
   "metadata": {},
   "source": [
    "Next, we will load the challenge1 csv into a dataframe.\n",
    "TODO: save the df to postgresql"
   ]
  },
  {
   "cell_type": "code",
   "execution_count": 2,
   "metadata": {},
   "outputs": [
    {
     "data": {
      "text/html": [
       "<div>\n",
       "<style scoped>\n",
       "    .dataframe tbody tr th:only-of-type {\n",
       "        vertical-align: middle;\n",
       "    }\n",
       "\n",
       "    .dataframe tbody tr th {\n",
       "        vertical-align: top;\n",
       "    }\n",
       "\n",
       "    .dataframe thead th {\n",
       "        text-align: right;\n",
       "    }\n",
       "</style>\n",
       "<table border=\"1\" class=\"dataframe\">\n",
       "  <thead>\n",
       "    <tr style=\"text-align: right;\">\n",
       "      <th></th>\n",
       "      <th>loc1</th>\n",
       "      <th>loc2</th>\n",
       "      <th>para1</th>\n",
       "      <th>dow</th>\n",
       "      <th>para2</th>\n",
       "      <th>para3</th>\n",
       "      <th>para4</th>\n",
       "      <th>price</th>\n",
       "    </tr>\n",
       "  </thead>\n",
       "  <tbody>\n",
       "    <tr>\n",
       "      <th>0</th>\n",
       "      <td>0</td>\n",
       "      <td>01</td>\n",
       "      <td>1</td>\n",
       "      <td>Mon</td>\n",
       "      <td>662</td>\n",
       "      <td>3000.0</td>\n",
       "      <td>3.8</td>\n",
       "      <td>73.49</td>\n",
       "    </tr>\n",
       "    <tr>\n",
       "      <th>1</th>\n",
       "      <td>9</td>\n",
       "      <td>99</td>\n",
       "      <td>1</td>\n",
       "      <td>Thu</td>\n",
       "      <td>340</td>\n",
       "      <td>2760.0</td>\n",
       "      <td>9.2</td>\n",
       "      <td>300.00</td>\n",
       "    </tr>\n",
       "    <tr>\n",
       "      <th>2</th>\n",
       "      <td>0</td>\n",
       "      <td>04</td>\n",
       "      <td>0</td>\n",
       "      <td>Mon</td>\n",
       "      <td>16</td>\n",
       "      <td>2700.0</td>\n",
       "      <td>3.0</td>\n",
       "      <td>130.00</td>\n",
       "    </tr>\n",
       "    <tr>\n",
       "      <th>3</th>\n",
       "      <td>4</td>\n",
       "      <td>40</td>\n",
       "      <td>1</td>\n",
       "      <td>Mon</td>\n",
       "      <td>17</td>\n",
       "      <td>12320.0</td>\n",
       "      <td>6.4</td>\n",
       "      <td>365.00</td>\n",
       "    </tr>\n",
       "    <tr>\n",
       "      <th>4</th>\n",
       "      <td>5</td>\n",
       "      <td>50</td>\n",
       "      <td>1</td>\n",
       "      <td>Thu</td>\n",
       "      <td>610</td>\n",
       "      <td>2117.0</td>\n",
       "      <td>10.8</td>\n",
       "      <td>357.50</td>\n",
       "    </tr>\n",
       "    <tr>\n",
       "      <th>...</th>\n",
       "      <td>...</td>\n",
       "      <td>...</td>\n",
       "      <td>...</td>\n",
       "      <td>...</td>\n",
       "      <td>...</td>\n",
       "      <td>...</td>\n",
       "      <td>...</td>\n",
       "      <td>...</td>\n",
       "    </tr>\n",
       "    <tr>\n",
       "      <th>9995</th>\n",
       "      <td>9</td>\n",
       "      <td>98</td>\n",
       "      <td>3</td>\n",
       "      <td>Fri</td>\n",
       "      <td>386</td>\n",
       "      <td>5000.0</td>\n",
       "      <td>12.0</td>\n",
       "      <td>460.00</td>\n",
       "    </tr>\n",
       "    <tr>\n",
       "      <th>9996</th>\n",
       "      <td>7</td>\n",
       "      <td>74</td>\n",
       "      <td>1</td>\n",
       "      <td>Thu</td>\n",
       "      <td>386</td>\n",
       "      <td>3250.0</td>\n",
       "      <td>8.0</td>\n",
       "      <td>325.00</td>\n",
       "    </tr>\n",
       "    <tr>\n",
       "      <th>9997</th>\n",
       "      <td>0</td>\n",
       "      <td>06</td>\n",
       "      <td>0</td>\n",
       "      <td>Tue</td>\n",
       "      <td>190</td>\n",
       "      <td>8856.0</td>\n",
       "      <td>5.6</td>\n",
       "      <td>133.33</td>\n",
       "    </tr>\n",
       "    <tr>\n",
       "      <th>9998</th>\n",
       "      <td>7</td>\n",
       "      <td>74</td>\n",
       "      <td>3</td>\n",
       "      <td>Fri</td>\n",
       "      <td>717</td>\n",
       "      <td>5000.0</td>\n",
       "      <td>13.6</td>\n",
       "      <td>820.00</td>\n",
       "    </tr>\n",
       "    <tr>\n",
       "      <th>9999</th>\n",
       "      <td>7</td>\n",
       "      <td>75</td>\n",
       "      <td>1</td>\n",
       "      <td>Thu</td>\n",
       "      <td>622</td>\n",
       "      <td>336.0</td>\n",
       "      <td>4.8</td>\n",
       "      <td>375.00</td>\n",
       "    </tr>\n",
       "  </tbody>\n",
       "</table>\n",
       "<p>10000 rows × 8 columns</p>\n",
       "</div>"
      ],
      "text/plain": [
       "     loc1 loc2  para1  dow  para2    para3  para4   price\n",
       "0       0   01      1  Mon    662   3000.0    3.8   73.49\n",
       "1       9   99      1  Thu    340   2760.0    9.2  300.00\n",
       "2       0   04      0  Mon     16   2700.0    3.0  130.00\n",
       "3       4   40      1  Mon     17  12320.0    6.4  365.00\n",
       "4       5   50      1  Thu    610   2117.0   10.8  357.50\n",
       "...   ...  ...    ...  ...    ...      ...    ...     ...\n",
       "9995    9   98      3  Fri    386   5000.0   12.0  460.00\n",
       "9996    7   74      1  Thu    386   3250.0    8.0  325.00\n",
       "9997    0   06      0  Tue    190   8856.0    5.6  133.33\n",
       "9998    7   74      3  Fri    717   5000.0   13.6  820.00\n",
       "9999    7   75      1  Thu    622    336.0    4.8  375.00\n",
       "\n",
       "[10000 rows x 8 columns]"
      ]
     },
     "execution_count": 2,
     "metadata": {},
     "output_type": "execute_result"
    }
   ],
   "source": [
    "df = pd.read_csv(\"challenge1.csv\")\n",
    "df"
   ]
  },
  {
   "cell_type": "markdown",
   "metadata": {},
   "source": [
    "I could just be missing it, but I don't know an easy way to put a numeric value on the categorical variable for the day of the week. In case there's a seasonality I'll appreciate the numeric data."
   ]
  },
  {
   "cell_type": "code",
   "execution_count": 3,
   "metadata": {},
   "outputs": [
    {
     "data": {
      "text/html": [
       "<div>\n",
       "<style scoped>\n",
       "    .dataframe tbody tr th:only-of-type {\n",
       "        vertical-align: middle;\n",
       "    }\n",
       "\n",
       "    .dataframe tbody tr th {\n",
       "        vertical-align: top;\n",
       "    }\n",
       "\n",
       "    .dataframe thead th {\n",
       "        text-align: right;\n",
       "    }\n",
       "</style>\n",
       "<table border=\"1\" class=\"dataframe\">\n",
       "  <thead>\n",
       "    <tr style=\"text-align: right;\">\n",
       "      <th></th>\n",
       "      <th>loc1</th>\n",
       "      <th>loc2</th>\n",
       "      <th>para1</th>\n",
       "      <th>dow</th>\n",
       "      <th>dow_numeric</th>\n",
       "      <th>para2</th>\n",
       "      <th>para3</th>\n",
       "      <th>para4</th>\n",
       "      <th>price</th>\n",
       "    </tr>\n",
       "  </thead>\n",
       "  <tbody>\n",
       "    <tr>\n",
       "      <th>0</th>\n",
       "      <td>0</td>\n",
       "      <td>01</td>\n",
       "      <td>1</td>\n",
       "      <td>Mon</td>\n",
       "      <td>0</td>\n",
       "      <td>662</td>\n",
       "      <td>3000.0</td>\n",
       "      <td>3.8</td>\n",
       "      <td>73.49</td>\n",
       "    </tr>\n",
       "    <tr>\n",
       "      <th>1</th>\n",
       "      <td>9</td>\n",
       "      <td>99</td>\n",
       "      <td>1</td>\n",
       "      <td>Thu</td>\n",
       "      <td>4</td>\n",
       "      <td>340</td>\n",
       "      <td>2760.0</td>\n",
       "      <td>9.2</td>\n",
       "      <td>300.00</td>\n",
       "    </tr>\n",
       "    <tr>\n",
       "      <th>2</th>\n",
       "      <td>0</td>\n",
       "      <td>04</td>\n",
       "      <td>0</td>\n",
       "      <td>Mon</td>\n",
       "      <td>0</td>\n",
       "      <td>16</td>\n",
       "      <td>2700.0</td>\n",
       "      <td>3.0</td>\n",
       "      <td>130.00</td>\n",
       "    </tr>\n",
       "    <tr>\n",
       "      <th>3</th>\n",
       "      <td>4</td>\n",
       "      <td>40</td>\n",
       "      <td>1</td>\n",
       "      <td>Mon</td>\n",
       "      <td>0</td>\n",
       "      <td>17</td>\n",
       "      <td>12320.0</td>\n",
       "      <td>6.4</td>\n",
       "      <td>365.00</td>\n",
       "    </tr>\n",
       "    <tr>\n",
       "      <th>4</th>\n",
       "      <td>5</td>\n",
       "      <td>50</td>\n",
       "      <td>1</td>\n",
       "      <td>Thu</td>\n",
       "      <td>4</td>\n",
       "      <td>610</td>\n",
       "      <td>2117.0</td>\n",
       "      <td>10.8</td>\n",
       "      <td>357.50</td>\n",
       "    </tr>\n",
       "    <tr>\n",
       "      <th>...</th>\n",
       "      <td>...</td>\n",
       "      <td>...</td>\n",
       "      <td>...</td>\n",
       "      <td>...</td>\n",
       "      <td>...</td>\n",
       "      <td>...</td>\n",
       "      <td>...</td>\n",
       "      <td>...</td>\n",
       "      <td>...</td>\n",
       "    </tr>\n",
       "    <tr>\n",
       "      <th>9995</th>\n",
       "      <td>9</td>\n",
       "      <td>98</td>\n",
       "      <td>3</td>\n",
       "      <td>Fri</td>\n",
       "      <td>5</td>\n",
       "      <td>386</td>\n",
       "      <td>5000.0</td>\n",
       "      <td>12.0</td>\n",
       "      <td>460.00</td>\n",
       "    </tr>\n",
       "    <tr>\n",
       "      <th>9996</th>\n",
       "      <td>7</td>\n",
       "      <td>74</td>\n",
       "      <td>1</td>\n",
       "      <td>Thu</td>\n",
       "      <td>4</td>\n",
       "      <td>386</td>\n",
       "      <td>3250.0</td>\n",
       "      <td>8.0</td>\n",
       "      <td>325.00</td>\n",
       "    </tr>\n",
       "    <tr>\n",
       "      <th>9997</th>\n",
       "      <td>0</td>\n",
       "      <td>06</td>\n",
       "      <td>0</td>\n",
       "      <td>Tue</td>\n",
       "      <td>1</td>\n",
       "      <td>190</td>\n",
       "      <td>8856.0</td>\n",
       "      <td>5.6</td>\n",
       "      <td>133.33</td>\n",
       "    </tr>\n",
       "    <tr>\n",
       "      <th>9998</th>\n",
       "      <td>7</td>\n",
       "      <td>74</td>\n",
       "      <td>3</td>\n",
       "      <td>Fri</td>\n",
       "      <td>5</td>\n",
       "      <td>717</td>\n",
       "      <td>5000.0</td>\n",
       "      <td>13.6</td>\n",
       "      <td>820.00</td>\n",
       "    </tr>\n",
       "    <tr>\n",
       "      <th>9999</th>\n",
       "      <td>7</td>\n",
       "      <td>75</td>\n",
       "      <td>1</td>\n",
       "      <td>Thu</td>\n",
       "      <td>4</td>\n",
       "      <td>622</td>\n",
       "      <td>336.0</td>\n",
       "      <td>4.8</td>\n",
       "      <td>375.00</td>\n",
       "    </tr>\n",
       "  </tbody>\n",
       "</table>\n",
       "<p>10000 rows × 9 columns</p>\n",
       "</div>"
      ],
      "text/plain": [
       "     loc1 loc2  para1  dow  dow_numeric  para2    para3  para4   price\n",
       "0       0   01      1  Mon            0    662   3000.0    3.8   73.49\n",
       "1       9   99      1  Thu            4    340   2760.0    9.2  300.00\n",
       "2       0   04      0  Mon            0     16   2700.0    3.0  130.00\n",
       "3       4   40      1  Mon            0     17  12320.0    6.4  365.00\n",
       "4       5   50      1  Thu            4    610   2117.0   10.8  357.50\n",
       "...   ...  ...    ...  ...          ...    ...      ...    ...     ...\n",
       "9995    9   98      3  Fri            5    386   5000.0   12.0  460.00\n",
       "9996    7   74      1  Thu            4    386   3250.0    8.0  325.00\n",
       "9997    0   06      0  Tue            1    190   8856.0    5.6  133.33\n",
       "9998    7   74      3  Fri            5    717   5000.0   13.6  820.00\n",
       "9999    7   75      1  Thu            4    622    336.0    4.8  375.00\n",
       "\n",
       "[10000 rows x 9 columns]"
      ]
     },
     "execution_count": 3,
     "metadata": {},
     "output_type": "execute_result"
    }
   ],
   "source": [
    "dow_numeric = []\n",
    "for value in df['dow']:\n",
    "    if value == 'Mon':\n",
    "        dow_numeric.append(0)\n",
    "    elif value == 'Tue':\n",
    "        dow_numeric.append(1)\n",
    "    elif value == 'Wed':\n",
    "        dow_numeric.append(2)\n",
    "    elif value == 'Thu':\n",
    "        dow_numeric.append(4)\n",
    "    elif value == 'Fri':\n",
    "        dow_numeric.append(5)\n",
    "    elif value == 'Sat':\n",
    "        dow_numeric.append(6)\n",
    "    elif value == 'Sun':\n",
    "        dow_numeric.append(7)\n",
    "    else:\n",
    "        dow_numeric.append(pd.NA)\n",
    "df.insert(4, 'dow_numeric', dow_numeric)\n",
    "df"
   ]
  },
  {
   "cell_type": "markdown",
   "metadata": {},
   "source": [
    "Next I just `describe()` the data."
   ]
  },
  {
   "cell_type": "code",
   "execution_count": 4,
   "metadata": {},
   "outputs": [
    {
     "data": {
      "text/html": [
       "<div>\n",
       "<style scoped>\n",
       "    .dataframe tbody tr th:only-of-type {\n",
       "        vertical-align: middle;\n",
       "    }\n",
       "\n",
       "    .dataframe tbody tr th {\n",
       "        vertical-align: top;\n",
       "    }\n",
       "\n",
       "    .dataframe thead th {\n",
       "        text-align: right;\n",
       "    }\n",
       "</style>\n",
       "<table border=\"1\" class=\"dataframe\">\n",
       "  <thead>\n",
       "    <tr style=\"text-align: right;\">\n",
       "      <th></th>\n",
       "      <th>para1</th>\n",
       "      <th>dow_numeric</th>\n",
       "      <th>para2</th>\n",
       "      <th>para3</th>\n",
       "      <th>para4</th>\n",
       "      <th>price</th>\n",
       "    </tr>\n",
       "  </thead>\n",
       "  <tbody>\n",
       "    <tr>\n",
       "      <th>count</th>\n",
       "      <td>10000.000000</td>\n",
       "      <td>10000.000000</td>\n",
       "      <td>10000.000000</td>\n",
       "      <td>10000.000000</td>\n",
       "      <td>10000.000000</td>\n",
       "      <td>10000.000000</td>\n",
       "    </tr>\n",
       "    <tr>\n",
       "      <th>mean</th>\n",
       "      <td>1.380800</td>\n",
       "      <td>2.383100</td>\n",
       "      <td>447.384000</td>\n",
       "      <td>9547.989920</td>\n",
       "      <td>8.459522</td>\n",
       "      <td>433.733056</td>\n",
       "    </tr>\n",
       "    <tr>\n",
       "      <th>std</th>\n",
       "      <td>3.500831</td>\n",
       "      <td>1.828953</td>\n",
       "      <td>221.005861</td>\n",
       "      <td>8022.814037</td>\n",
       "      <td>4.613526</td>\n",
       "      <td>277.435947</td>\n",
       "    </tr>\n",
       "    <tr>\n",
       "      <th>min</th>\n",
       "      <td>0.000000</td>\n",
       "      <td>0.000000</td>\n",
       "      <td>16.000000</td>\n",
       "      <td>200.000000</td>\n",
       "      <td>1.000000</td>\n",
       "      <td>50.730000</td>\n",
       "    </tr>\n",
       "    <tr>\n",
       "      <th>25%</th>\n",
       "      <td>1.000000</td>\n",
       "      <td>1.000000</td>\n",
       "      <td>301.000000</td>\n",
       "      <td>2898.000000</td>\n",
       "      <td>4.000000</td>\n",
       "      <td>250.000000</td>\n",
       "    </tr>\n",
       "    <tr>\n",
       "      <th>50%</th>\n",
       "      <td>1.000000</td>\n",
       "      <td>2.000000</td>\n",
       "      <td>434.000000</td>\n",
       "      <td>6447.000000</td>\n",
       "      <td>7.200000</td>\n",
       "      <td>370.000000</td>\n",
       "    </tr>\n",
       "    <tr>\n",
       "      <th>75%</th>\n",
       "      <td>1.000000</td>\n",
       "      <td>4.000000</td>\n",
       "      <td>582.000000</td>\n",
       "      <td>15000.000000</td>\n",
       "      <td>13.600000</td>\n",
       "      <td>550.000000</td>\n",
       "    </tr>\n",
       "    <tr>\n",
       "      <th>max</th>\n",
       "      <td>337.000000</td>\n",
       "      <td>7.000000</td>\n",
       "      <td>2554.000000</td>\n",
       "      <td>34782.000000</td>\n",
       "      <td>27.200000</td>\n",
       "      <td>5700.000000</td>\n",
       "    </tr>\n",
       "  </tbody>\n",
       "</table>\n",
       "</div>"
      ],
      "text/plain": [
       "              para1   dow_numeric         para2         para3         para4  \\\n",
       "count  10000.000000  10000.000000  10000.000000  10000.000000  10000.000000   \n",
       "mean       1.380800      2.383100    447.384000   9547.989920      8.459522   \n",
       "std        3.500831      1.828953    221.005861   8022.814037      4.613526   \n",
       "min        0.000000      0.000000     16.000000    200.000000      1.000000   \n",
       "25%        1.000000      1.000000    301.000000   2898.000000      4.000000   \n",
       "50%        1.000000      2.000000    434.000000   6447.000000      7.200000   \n",
       "75%        1.000000      4.000000    582.000000  15000.000000     13.600000   \n",
       "max      337.000000      7.000000   2554.000000  34782.000000     27.200000   \n",
       "\n",
       "              price  \n",
       "count  10000.000000  \n",
       "mean     433.733056  \n",
       "std      277.435947  \n",
       "min       50.730000  \n",
       "25%      250.000000  \n",
       "50%      370.000000  \n",
       "75%      550.000000  \n",
       "max     5700.000000  "
      ]
     },
     "execution_count": 4,
     "metadata": {},
     "output_type": "execute_result"
    }
   ],
   "source": [
    "df.describe()"
   ]
  },
  {
   "cell_type": "markdown",
   "metadata": {},
   "source": [
    "I noticed that the mean of the dow_numeric column looked 'low' to me, so I wanted to explore that a little deeper."
   ]
  },
  {
   "cell_type": "code",
   "execution_count": 5,
   "metadata": {},
   "outputs": [
    {
     "data": {
      "text/plain": [
       "dow\n",
       "Fri    1931\n",
       "Mon    1918\n",
       "Sat      10\n",
       "Sun       3\n",
       "Thu    1908\n",
       "Tue    1997\n",
       "Wed    2233\n",
       "dtype: int64"
      ]
     },
     "execution_count": 5,
     "metadata": {},
     "output_type": "execute_result"
    }
   ],
   "source": [
    "df.groupby(by=['dow']).size()"
   ]
  },
  {
   "cell_type": "markdown",
   "metadata": {},
   "source": [
    "Never mind that, Wednesday is a little overrepresented but the main reason for the low mean is there was barely any data on Saturday and Sunday specifically, which makes sense because those aren't usually business days. Doesn't look like I need to care about seasonality."
   ]
  },
  {
   "cell_type": "code",
   "execution_count": 6,
   "metadata": {},
   "outputs": [
    {
     "data": {
      "text/html": [
       "<div>\n",
       "<style scoped>\n",
       "    .dataframe tbody tr th:only-of-type {\n",
       "        vertical-align: middle;\n",
       "    }\n",
       "\n",
       "    .dataframe tbody tr th {\n",
       "        vertical-align: top;\n",
       "    }\n",
       "\n",
       "    .dataframe thead th {\n",
       "        text-align: right;\n",
       "    }\n",
       "</style>\n",
       "<table border=\"1\" class=\"dataframe\">\n",
       "  <thead>\n",
       "    <tr style=\"text-align: right;\">\n",
       "      <th></th>\n",
       "      <th>para1</th>\n",
       "      <th>para2</th>\n",
       "      <th>para3</th>\n",
       "      <th>para4</th>\n",
       "      <th>price</th>\n",
       "    </tr>\n",
       "  </thead>\n",
       "  <tbody>\n",
       "    <tr>\n",
       "      <th>count</th>\n",
       "      <td>10000.000000</td>\n",
       "      <td>10000.000000</td>\n",
       "      <td>10000.000000</td>\n",
       "      <td>10000.000000</td>\n",
       "      <td>10000.000000</td>\n",
       "    </tr>\n",
       "    <tr>\n",
       "      <th>mean</th>\n",
       "      <td>1.380800</td>\n",
       "      <td>447.384000</td>\n",
       "      <td>9547.989920</td>\n",
       "      <td>8.459522</td>\n",
       "      <td>433.733056</td>\n",
       "    </tr>\n",
       "    <tr>\n",
       "      <th>std</th>\n",
       "      <td>3.500831</td>\n",
       "      <td>221.005861</td>\n",
       "      <td>8022.814037</td>\n",
       "      <td>4.613526</td>\n",
       "      <td>277.435947</td>\n",
       "    </tr>\n",
       "    <tr>\n",
       "      <th>min</th>\n",
       "      <td>0.000000</td>\n",
       "      <td>16.000000</td>\n",
       "      <td>200.000000</td>\n",
       "      <td>1.000000</td>\n",
       "      <td>50.730000</td>\n",
       "    </tr>\n",
       "    <tr>\n",
       "      <th>25%</th>\n",
       "      <td>1.000000</td>\n",
       "      <td>301.000000</td>\n",
       "      <td>2898.000000</td>\n",
       "      <td>4.000000</td>\n",
       "      <td>250.000000</td>\n",
       "    </tr>\n",
       "    <tr>\n",
       "      <th>50%</th>\n",
       "      <td>1.000000</td>\n",
       "      <td>434.000000</td>\n",
       "      <td>6447.000000</td>\n",
       "      <td>7.200000</td>\n",
       "      <td>370.000000</td>\n",
       "    </tr>\n",
       "    <tr>\n",
       "      <th>75%</th>\n",
       "      <td>1.000000</td>\n",
       "      <td>582.000000</td>\n",
       "      <td>15000.000000</td>\n",
       "      <td>13.600000</td>\n",
       "      <td>550.000000</td>\n",
       "    </tr>\n",
       "    <tr>\n",
       "      <th>max</th>\n",
       "      <td>337.000000</td>\n",
       "      <td>2554.000000</td>\n",
       "      <td>34782.000000</td>\n",
       "      <td>27.200000</td>\n",
       "      <td>5700.000000</td>\n",
       "    </tr>\n",
       "  </tbody>\n",
       "</table>\n",
       "</div>"
      ],
      "text/plain": [
       "              para1         para2         para3         para4         price\n",
       "count  10000.000000  10000.000000  10000.000000  10000.000000  10000.000000\n",
       "mean       1.380800    447.384000   9547.989920      8.459522    433.733056\n",
       "std        3.500831    221.005861   8022.814037      4.613526    277.435947\n",
       "min        0.000000     16.000000    200.000000      1.000000     50.730000\n",
       "25%        1.000000    301.000000   2898.000000      4.000000    250.000000\n",
       "50%        1.000000    434.000000   6447.000000      7.200000    370.000000\n",
       "75%        1.000000    582.000000  15000.000000     13.600000    550.000000\n",
       "max      337.000000   2554.000000  34782.000000     27.200000   5700.000000"
      ]
     },
     "execution_count": 6,
     "metadata": {},
     "output_type": "execute_result"
    }
   ],
   "source": [
    "df.drop('dow_numeric', axis=1, inplace=True)\n",
    "df.describe()"
   ]
  },
  {
   "cell_type": "markdown",
   "metadata": {},
   "source": [
    "Next, I want to take a look at the correlation between the four parameters. There seems to be a high correlation between para3 and para4 so I'll need to take a closer look."
   ]
  },
  {
   "cell_type": "code",
   "execution_count": 7,
   "metadata": {},
   "outputs": [
    {
     "name": "stderr",
     "output_type": "stream",
     "text": [
      "/tmp/ipykernel_30949/1134722465.py:1: FutureWarning: The default value of numeric_only in DataFrame.corr is deprecated. In a future version, it will default to False. Select only valid columns or specify the value of numeric_only to silence this warning.\n",
      "  df.corr()\n"
     ]
    },
    {
     "data": {
      "text/html": [
       "<div>\n",
       "<style scoped>\n",
       "    .dataframe tbody tr th:only-of-type {\n",
       "        vertical-align: middle;\n",
       "    }\n",
       "\n",
       "    .dataframe tbody tr th {\n",
       "        vertical-align: top;\n",
       "    }\n",
       "\n",
       "    .dataframe thead th {\n",
       "        text-align: right;\n",
       "    }\n",
       "</style>\n",
       "<table border=\"1\" class=\"dataframe\">\n",
       "  <thead>\n",
       "    <tr style=\"text-align: right;\">\n",
       "      <th></th>\n",
       "      <th>para1</th>\n",
       "      <th>para2</th>\n",
       "      <th>para3</th>\n",
       "      <th>para4</th>\n",
       "      <th>price</th>\n",
       "    </tr>\n",
       "  </thead>\n",
       "  <tbody>\n",
       "    <tr>\n",
       "      <th>para1</th>\n",
       "      <td>1.000000</td>\n",
       "      <td>0.072025</td>\n",
       "      <td>0.010420</td>\n",
       "      <td>0.001663</td>\n",
       "      <td>0.074754</td>\n",
       "    </tr>\n",
       "    <tr>\n",
       "      <th>para2</th>\n",
       "      <td>0.072025</td>\n",
       "      <td>1.000000</td>\n",
       "      <td>0.006978</td>\n",
       "      <td>0.020806</td>\n",
       "      <td>0.552681</td>\n",
       "    </tr>\n",
       "    <tr>\n",
       "      <th>para3</th>\n",
       "      <td>0.010420</td>\n",
       "      <td>0.006978</td>\n",
       "      <td>1.000000</td>\n",
       "      <td>0.691237</td>\n",
       "      <td>0.355088</td>\n",
       "    </tr>\n",
       "    <tr>\n",
       "      <th>para4</th>\n",
       "      <td>0.001663</td>\n",
       "      <td>0.020806</td>\n",
       "      <td>0.691237</td>\n",
       "      <td>1.000000</td>\n",
       "      <td>0.514990</td>\n",
       "    </tr>\n",
       "    <tr>\n",
       "      <th>price</th>\n",
       "      <td>0.074754</td>\n",
       "      <td>0.552681</td>\n",
       "      <td>0.355088</td>\n",
       "      <td>0.514990</td>\n",
       "      <td>1.000000</td>\n",
       "    </tr>\n",
       "  </tbody>\n",
       "</table>\n",
       "</div>"
      ],
      "text/plain": [
       "          para1     para2     para3     para4     price\n",
       "para1  1.000000  0.072025  0.010420  0.001663  0.074754\n",
       "para2  0.072025  1.000000  0.006978  0.020806  0.552681\n",
       "para3  0.010420  0.006978  1.000000  0.691237  0.355088\n",
       "para4  0.001663  0.020806  0.691237  1.000000  0.514990\n",
       "price  0.074754  0.552681  0.355088  0.514990  1.000000"
      ]
     },
     "execution_count": 7,
     "metadata": {},
     "output_type": "execute_result"
    }
   ],
   "source": [
    "df.corr()"
   ]
  },
  {
   "cell_type": "markdown",
   "metadata": {},
   "source": [
    "Instead, I'll go ahead and build a linear regression model from the four parameters to predict the price. Using train_test_split so I don't have to initialize the four sets individually and don't have to worry about calculating how many records I should use. Does everything I need in just one line!"
   ]
  },
  {
   "cell_type": "code",
   "execution_count": 8,
   "metadata": {},
   "outputs": [],
   "source": [
    "# split the data set into the features and regressand\n",
    "\n",
    "df_regressors = df[['para1', 'para2', 'para3', 'para4']]\n",
    "df_regressand = df['price']\n",
    "\n",
    "# divide the data sets into train and test sets\n",
    "df_regressors_train, df_regressors_test, df_regressand_train, df_regressand_test = train_test_split(df_regressors, df_regressand, test_size=0.2)"
   ]
  },
  {
   "cell_type": "markdown",
   "metadata": {},
   "source": [
    "Next we will create the model using the LinearRegression class in sklearn and make a prediction."
   ]
  },
  {
   "cell_type": "code",
   "execution_count": 9,
   "metadata": {},
   "outputs": [],
   "source": [
    "reg = linear_model.LinearRegression()\n",
    "reg.fit(df_regressors_train, df_regressand_train)\n",
    "\n",
    "df_regressand_prediction = reg.predict(df_regressors_test)\n"
   ]
  },
  {
   "cell_type": "markdown",
   "metadata": {},
   "source": [
    "Now I'll just display the coefficients, the MSE, the R<sup>2</sup> Error and the adjusted R<sup>2</sup>. We end up with middling explanatory power in my opinion, but I seem to remember that that is expected as you add independent variables."
   ]
  },
  {
   "cell_type": "code",
   "execution_count": 10,
   "metadata": {},
   "outputs": [
    {
     "name": "stdout",
     "output_type": "stream",
     "text": [
      "Coefficients: [2.51637018e+00 6.84923959e-01 1.57609032e-04 2.98079916e+01]\n",
      "Mean Squared Error: 32330.14\n",
      "R Squared Error: 57.90%\n",
      "Adjusted R Squared Error: 57.81%\n"
     ]
    }
   ],
   "source": [
    "r2_error = r2_score(df_regressand_test, df_regressand_prediction)\n",
    "\n",
    "print(f\"Coefficients: {reg.coef_}\")\n",
    "print(f\"Mean Squared Error: {mean_squared_error(df_regressand_test, df_regressand_prediction):.2f}\")\n",
    "print(f\"R Squared Error: {r2_error*100:.2f}%\")\n",
    "print(f\"Adjusted R Squared Error: {(1-(1-r2_error)*((2000-1)/(2000-4-1)))*100:.2f}%\")"
   ]
  },
  {
   "cell_type": "markdown",
   "metadata": {},
   "source": [
    "Above, I found that `para3` and `para4` were highly correlated, and here I found that `para3` is ending up with a tiny coefficient. I'll check two other models, one which leaves out `para3` and one which leaves out `para4`."
   ]
  },
  {
   "cell_type": "code",
   "execution_count": 30,
   "metadata": {},
   "outputs": [],
   "source": [
    "# split the data set into the features and regressand\n",
    "\n",
    "df_regressors_no_p3 = df[['para1', 'para2', 'para4']]\n",
    "df_regressand = df['price']\n",
    "\n",
    "# divide the data sets into train and test sets\n",
    "df_regressors_train, df_regressors_test, df_regressand_train, df_regressand_test = train_test_split(df_regressors_no_p3, df_regressand, test_size=0.2)"
   ]
  },
  {
   "cell_type": "code",
   "execution_count": 31,
   "metadata": {},
   "outputs": [
    {
     "name": "stdout",
     "output_type": "stream",
     "text": [
      "Coefficients: [ 2.52050593  0.68487365 29.99690366]\n",
      "Mean Squared Error: 121404.91\n",
      "R Squared Error: -54.77%\n",
      "Adjusted R Squared Error: -55.08%\n"
     ]
    }
   ],
   "source": [
    "r2_error = r2_score(df_regressand_test, df_regressand_prediction)\n",
    "\n",
    "print(f\"Coefficients: {reg.coef_}\")\n",
    "print(f\"Mean Squared Error: {mean_squared_error(df_regressand_test, df_regressand_prediction):.2f}\")\n",
    "print(f\"R Squared Error: {r2_error*100:.2f}%\")\n",
    "print(f\"Adjusted R Squared Error: {(1-(1-r2_error)*((2000-1)/(2000-4-1)))*100:.2f}%\")"
   ]
  },
  {
   "cell_type": "code",
   "execution_count": 32,
   "metadata": {},
   "outputs": [],
   "source": [
    "# split the data set into the features and regressand\n",
    "\n",
    "df_regressors_no_p4 = df[['para1', 'para2', 'para3']]\n",
    "df_regressand = df['price']\n",
    "\n",
    "# divide the data sets into train and test sets\n",
    "df_regressors_train, df_regressors_test, df_regressand_train, df_regressand_test = train_test_split(df_regressors_no_p4, df_regressand, test_size=0.2)"
   ]
  },
  {
   "cell_type": "code",
   "execution_count": 34,
   "metadata": {},
   "outputs": [],
   "source": [
    "reg = linear_model.LinearRegression()\n",
    "reg.fit(df_regressors_train, df_regressand_train)\n",
    "\n",
    "df_regressand_prediction = reg.predict(df_regressors_test)\n"
   ]
  },
  {
   "cell_type": "code",
   "execution_count": 35,
   "metadata": {},
   "outputs": [
    {
     "name": "stdout",
     "output_type": "stream",
     "text": [
      "Coefficients: [2.36863832 0.68969943 0.01237322]\n",
      "Mean Squared Error: 42803.96\n",
      "R Squared Error: 42.14%\n",
      "Adjusted R Squared Error: 42.02%\n"
     ]
    }
   ],
   "source": [
    "r2_error = r2_score(df_regressand_test, df_regressand_prediction)\n",
    "\n",
    "print(f\"Coefficients: {reg.coef_}\")\n",
    "print(f\"Mean Squared Error: {mean_squared_error(df_regressand_test, df_regressand_prediction):.2f}\")\n",
    "print(f\"R Squared Error: {r2_error*100:.2f}%\")\n",
    "print(f\"Adjusted R Squared Error: {(1-(1-r2_error)*((2000-1)/(2000-4-1)))*100:.2f}%\")"
   ]
  },
  {
   "cell_type": "markdown",
   "metadata": {},
   "source": [
    "Wow, both of those models are worse than including all the parameters. The 69% correlation coefficient for `para3` and `para4` is just shy of \"highly correlated\" and I've shown that excluding either isn't a good path forward. New approach: let's try Ridge regression with a few $\\alpha$ values."
   ]
  },
  {
   "cell_type": "code",
   "execution_count": 40,
   "metadata": {},
   "outputs": [],
   "source": [
    "from sklearn.preprocessing import StandardScaler\n",
    "from sklearn.linear_model import RidgeCV\n",
    "scaler = StandardScaler()\n",
    "df_regressors_std = scaler.fit_transform(df_regressors)"
   ]
  },
  {
   "cell_type": "code",
   "execution_count": 41,
   "metadata": {},
   "outputs": [],
   "source": [
    "regr_cv = RidgeCV(alphas=[0.1, 1.0, 10.0])\n",
    "model_cv = regr_cv.fit(df_regressors_std, df_regressand)"
   ]
  },
  {
   "cell_type": "code",
   "execution_count": 42,
   "metadata": {},
   "outputs": [
    {
     "data": {
      "text/plain": [
       "10.0"
      ]
     },
     "execution_count": 42,
     "metadata": {},
     "output_type": "execute_result"
    }
   ],
   "source": [
    "model_cv.alpha_"
   ]
  },
  {
   "cell_type": "code",
   "execution_count": 49,
   "metadata": {},
   "outputs": [],
   "source": [
    "# divide the data sets into train and test sets\n",
    "df_regressors_train, df_regressors_test, df_regressand_train, df_regressand_test = train_test_split(df_regressors_std, df_regressand, test_size=0.2)"
   ]
  },
  {
   "cell_type": "code",
   "execution_count": 50,
   "metadata": {},
   "outputs": [],
   "source": [
    "reg = linear_model.Ridge(alpha=10.0)\n",
    "reg.fit(df_regressors_train, df_regressand_train)\n",
    "\n",
    "df_regressand_prediction = reg.predict(df_regressors_test)"
   ]
  },
  {
   "cell_type": "code",
   "execution_count": 51,
   "metadata": {},
   "outputs": [
    {
     "name": "stdout",
     "output_type": "stream",
     "text": [
      "Coefficients: [  9.64607056 151.59780231   3.69905439 137.7818468 ]\n",
      "Mean Squared Error: 27439.20\n",
      "R Squared Error: 57.62%\n",
      "Adjusted R Squared Error: 57.53%\n"
     ]
    }
   ],
   "source": [
    "r2_error = r2_score(df_regressand_test, df_regressand_prediction)\n",
    "\n",
    "print(f\"Coefficients: {reg.coef_}\")\n",
    "print(f\"Mean Squared Error: {mean_squared_error(df_regressand_test, df_regressand_prediction):.2f}\")\n",
    "print(f\"R Squared Error: {r2_error*100:.2f}%\")\n",
    "print(f\"Adjusted R Squared Error: {(1-(1-r2_error)*((2000-1)/(2000-4-1)))*100:.2f}%\")"
   ]
  },
  {
   "cell_type": "markdown",
   "metadata": {},
   "source": [
    "Hey, check that out! Our MSE is the lowest we've seen and the $R^2$ and $\\bar{R}^2$ are both looking pretty good too."
   ]
  },
  {
   "cell_type": "markdown",
   "metadata": {},
   "source": [
    "Last thing I'll do is go ahead and commit the challenge1 csv to the postgresql database. Writing out the `declarative_base` class is a little tedious but you get so many benefits from using sqlalchemy."
   ]
  },
  {
   "cell_type": "code",
   "execution_count": null,
   "metadata": {},
   "outputs": [
    {
     "data": {
      "text/plain": [
       "1000"
      ]
     },
     "execution_count": 45,
     "metadata": {},
     "output_type": "execute_result"
    }
   ],
   "source": [
    "from sqlalchemy import create_engine\n",
    "from sqlalchemy.ext.declarative import declarative_base\n",
    "from sqlalchemy import Column, Integer, DECIMAL, String\n",
    "import psycopg2\n",
    "\n",
    "Base = declarative_base()\n",
    "\n",
    "class challenge1(Base):\n",
    "    __tablename__ = 'challenge_1'\n",
    "    id = Column(Integer, primary_key=True)\n",
    "    loc1 = Column(Integer)\n",
    "    loc2 = Column(Integer)\n",
    "    para1 = Column(DECIMAL)\n",
    "    dow = Column(String(3))\n",
    "    para2 = Column(DECIMAL)\n",
    "    para3 = Column(DECIMAL)\n",
    "    para4 = Column(DECIMAL)\n",
    "    price = Column(DECIMAL)\n",
    "\n",
    "with open('../.pgpass', 'r') as f:\n",
    "    host, port, database, user, password = f.read().split(':')\n",
    "\n",
    "engine = create_engine(f'postgresql+psycopg2://{user}:{password}@{host}:{port}/{database}', echo=False)\n",
    "Base.metadata.create_all(engine)\n",
    "df.to_sql(name=challenge1.__tablename__, con=engine, index=True, if_exists='replace')"
   ]
  },
  {
   "cell_type": "markdown",
   "metadata": {},
   "source": [
    "NOTE: the `.pgpass` file is being `.gitignore`d, I do know not to just leave secrets in repos."
   ]
  },
  {
   "cell_type": "markdown",
   "metadata": {},
   "source": [
    "Lastly, just to show the csv is getting imported properly, we read it back. \n",
    "\n",
    "NOTE: I'm not sure what the `loc1` and `loc2` columns are supposed to mean, they look like a multi-index or something but I would have to ask how they're supposed to work. I noticed in the CSV that there are 2 lines which have non-numeric values."
   ]
  },
  {
   "cell_type": "code",
   "execution_count": null,
   "metadata": {},
   "outputs": [
    {
     "name": "stdout",
     "output_type": "stream",
     "text": [
      "     loc1 loc2  para1  dow  para2    para3  para4   price\n",
      "0       0   01      1  Mon    662   3000.0    3.8   73.49\n",
      "1       9   99      1  Thu    340   2760.0    9.2  300.00\n",
      "2       0   04      0  Mon     16   2700.0    3.0  130.00\n",
      "3       4   40      1  Mon     17  12320.0    6.4  365.00\n",
      "4       5   50      1  Thu    610   2117.0   10.8  357.50\n",
      "...   ...  ...    ...  ...    ...      ...    ...     ...\n",
      "9995    9   98      3  Fri    386   5000.0   12.0  460.00\n",
      "9996    7   74      1  Thu    386   3250.0    8.0  325.00\n",
      "9997    0   06      0  Tue    190   8856.0    5.6  133.33\n",
      "9998    7   74      3  Fri    717   5000.0   13.6  820.00\n",
      "9999    7   75      1  Thu    622    336.0    4.8  375.00\n",
      "\n",
      "[10000 rows x 8 columns]\n",
      "      index loc1 loc2  para1  dow  para2    para3  para4   price\n",
      "0         0    0   01      1  Mon    662   3000.0    3.8   73.49\n",
      "1         1    9   99      1  Thu    340   2760.0    9.2  300.00\n",
      "2         2    0   04      0  Mon     16   2700.0    3.0  130.00\n",
      "3         3    4   40      1  Mon     17  12320.0    6.4  365.00\n",
      "4         4    5   50      1  Thu    610   2117.0   10.8  357.50\n",
      "...     ...  ...  ...    ...  ...    ...      ...    ...     ...\n",
      "9995   9995    9   98      3  Fri    386   5000.0   12.0  460.00\n",
      "9996   9996    7   74      1  Thu    386   3250.0    8.0  325.00\n",
      "9997   9997    0   06      0  Tue    190   8856.0    5.6  133.33\n",
      "9998   9998    7   74      3  Fri    717   5000.0   13.6  820.00\n",
      "9999   9999    7   75      1  Thu    622    336.0    4.8  375.00\n",
      "\n",
      "[10000 rows x 9 columns]\n"
     ]
    }
   ],
   "source": [
    "df2 = pd.read_sql_table(challenge1.__tablename__, con=engine)\n",
    "print(df)\n",
    "print(df2)"
   ]
  }
 ],
 "metadata": {
  "kernelspec": {
   "display_name": "Python 3.8.10 64-bit",
   "language": "python",
   "name": "python3"
  },
  "language_info": {
   "codemirror_mode": {
    "name": "ipython",
    "version": 3
   },
   "file_extension": ".py",
   "mimetype": "text/x-python",
   "name": "python",
   "nbconvert_exporter": "python",
   "pygments_lexer": "ipython3",
   "version": "3.8.10"
  },
  "orig_nbformat": 4,
  "vscode": {
   "interpreter": {
    "hash": "916dbcbb3f70747c44a77c7bcd40155683ae19c65e1c03b4aa3499c5328201f1"
   }
  }
 },
 "nbformat": 4,
 "nbformat_minor": 2
}
